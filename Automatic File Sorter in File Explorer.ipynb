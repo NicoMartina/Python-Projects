{
 "cells": [
  {
   "cell_type": "markdown",
   "id": "10065a57",
   "metadata": {},
   "source": [
    "Automatic File Sorter in FIle Explorer"
   ]
  },
  {
   "cell_type": "code",
   "execution_count": 25,
   "id": "89c3a1aa",
   "metadata": {},
   "outputs": [],
   "source": [
    "#import the directory that we want to use\n",
    "\n",
    "import os, shutil"
   ]
  },
  {
   "cell_type": "code",
   "execution_count": 26,
   "id": "971eb12c",
   "metadata": {},
   "outputs": [],
   "source": [
    "path = r\"C:/Users/Startklar/Desktop/New folder/\""
   ]
  },
  {
   "cell_type": "code",
   "execution_count": 27,
   "id": "3fde56af",
   "metadata": {},
   "outputs": [],
   "source": [
    "#list the directory that we are using \n",
    "file_names = os.listdir(path)"
   ]
  },
  {
   "cell_type": "code",
   "execution_count": 28,
   "id": "fb212884",
   "metadata": {},
   "outputs": [],
   "source": [
    "#create folders inside the directory imported\n",
    "\n",
    "folder_names = ['xlsx files', 'image files', 'text files']\n",
    "\n",
    "for loop in range(0,3): \n",
    "    if not os.path.exists(path + folder_names[loop]):\n",
    "        os.makedirs(path + folder_names[loop])"
   ]
  },
  {
   "cell_type": "code",
   "execution_count": 29,
   "id": "aad50257",
   "metadata": {},
   "outputs": [],
   "source": [
    "#Now we move all files into their folders, created in the last step.\n",
    "\n",
    "\n",
    "for file in file_names:\n",
    "    if \".xlsx\" in file and not os.path.exists(path + \"xlsx files/\" + file):\n",
    "        shutil.move(path + file, path + \"xlsx files/\" + file)\n",
    "    elif \".png\" in file and not os.path.exists(path + \"image files/\" + file):\n",
    "        shutil.move(path + file, path + \"image files/\" + file)\n",
    "    elif \".txt\" in file and not os.path.exists(path + \"text files/\" + file):\n",
    "        shutil.move(path + file, path + \"text files/\" + file)\n",
    "    else:\n",
    "        print(\"There are files in this path that were not moved\")"
   ]
  },
  {
   "cell_type": "code",
   "execution_count": null,
   "id": "32cbd7e2",
   "metadata": {},
   "outputs": [],
   "source": []
  }
 ],
 "metadata": {
  "kernelspec": {
   "display_name": "Python 3 (ipykernel)",
   "language": "python",
   "name": "python3"
  },
  "language_info": {
   "codemirror_mode": {
    "name": "ipython",
    "version": 3
   },
   "file_extension": ".py",
   "mimetype": "text/x-python",
   "name": "python",
   "nbconvert_exporter": "python",
   "pygments_lexer": "ipython3",
   "version": "3.9.7"
  }
 },
 "nbformat": 4,
 "nbformat_minor": 5
}
