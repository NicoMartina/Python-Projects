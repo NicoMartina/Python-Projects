{
 "cells": [
  {
   "cell_type": "markdown",
   "id": "e1ede51c",
   "metadata": {},
   "source": [
    "BMI CALCULATOR"
   ]
  },
  {
   "cell_type": "code",
   "execution_count": 11,
   "id": "0a8fe80d",
   "metadata": {},
   "outputs": [
    {
     "name": "stdout",
     "output_type": "stream",
     "text": [
      "Enter you name: Nico\n",
      "Enter your weight in pounds: 209\n",
      "Enter your weight in inches: 75\n",
      "26.120355555555555\n",
      "Nico, you are overweight. You need to start watching your health.\n"
     ]
    }
   ],
   "source": [
    "name = input(\"Enter you name: \")\n",
    "\n",
    "weight = int(input(\"Enter your weight in pounds: \"))\n",
    "\n",
    "height = int(input(\"Enter your weight in inches: \"))\n",
    "\n",
    "BMI = (weight * 703) / (height * height)\n",
    "print(BMI)\n",
    "\n",
    "\n",
    "if BMI >0:\n",
    "    if(BMI< 18.5):\n",
    "        print(name + ', you are underweight.')\n",
    "    elif(BMI<= 24.9):\n",
    "        print(name + ', you are normal weight.')\n",
    "    elif(BMI< 29.9):\n",
    "        print(name + ', you are overweight. You need to start watching your health.')\n",
    "    elif(BMI< 34.9):\n",
    "        print(name + ', you are obese.')\n",
    "    elif(BMI< 39.9):\n",
    "        print(name + ', you are severely obese.')\n",
    "    else:\n",
    "        print(name + ', you are morbidly obese.')"
   ]
  }
 ],
 "metadata": {
  "kernelspec": {
   "display_name": "Python 3 (ipykernel)",
   "language": "python",
   "name": "python3"
  },
  "language_info": {
   "codemirror_mode": {
    "name": "ipython",
    "version": 3
   },
   "file_extension": ".py",
   "mimetype": "text/x-python",
   "name": "python",
   "nbconvert_exporter": "python",
   "pygments_lexer": "ipython3",
   "version": "3.9.7"
  }
 },
 "nbformat": 4,
 "nbformat_minor": 5
}
